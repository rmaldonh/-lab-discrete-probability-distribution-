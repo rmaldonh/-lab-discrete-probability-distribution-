{
 "cells": [
  {
   "cell_type": "markdown",
   "metadata": {},
   "source": [
    "# Before your start:\n",
    "\n",
    "    Read the README.md file\n",
    "    Comment as much as you can and use the resources (README.md file)\n",
    "    Happy learning!\n",
    "\n",
    "*Notes:* \n",
    "\n",
    "- Solve the questions with python.\n",
    "\n",
    "- Round the final answer to three decimal places."
   ]
  },
  {
   "cell_type": "markdown",
   "metadata": {},
   "source": [
    "## Bernoulli's Distribution\n",
    "\n",
    "In a basket containing 100 fruits, there are 60 apples and 40 oranges. \n",
    "\n",
    "A fruit is picked randomly from the basket. \n",
    "\n",
    "1. **What is the probability that the fruit is apple?**\n",
    "1. **What is the probability that it is an orange?**"
   ]
  },
  {
   "cell_type": "code",
   "execution_count": 7,
   "metadata": {},
   "outputs": [
    {
     "name": "stdout",
     "output_type": "stream",
     "text": [
      "Media manzana: 0.6\n",
      "Varianza manzana 0.24\n",
      "Media naranjas:  0.4\n",
      "Varianza naranjas:  0.24\n"
     ]
    }
   ],
   "source": [
    "\"\"\"\n",
    "Calculate:\n",
    "p = probability that the fruit is an apple \n",
    "q = probability that the fruit is an orange\n",
    "\"\"\"\n",
    "from scipy.stats import bernoulli\n",
    "p = 60 / 100\n",
    "q = 40 / 100\n",
    "# your code here\n",
    "apple = bernoulli.stats(p, moments='mv')\n",
    "print('Media manzana:',apple[0])\n",
    "print('Varianza manzana',apple[1])\n",
    "\n",
    "orange = bernoulli.stats(q, moments = 'mv')\n",
    "print('Media naranjas: ', orange[0])\n",
    "print('Varianza naranjas: ', orange[1])\n"
   ]
  },
  {
   "cell_type": "markdown",
   "metadata": {},
   "source": [
    "Now we take a random sample of 20 fruits from the basket. After each fruit is taken, a new fruit of the same type is replaced in the basket. Therefore, every time we are taking 1 fruit from 100 fruits. \n",
    "\n",
    "1. **What is the probability that the first 5 fruits are all apples?**\n",
    "\n",
    "1. **What is the probability that the first 5 fruits are all apples and the next 15 fruits are all oranges?**\n",
    "\n",
    "You can include the `p` and `q` probabilities you previous calculated in your solution."
   ]
  },
  {
   "cell_type": "code",
   "execution_count": 36,
   "metadata": {},
   "outputs": [
    {
     "name": "stdout",
     "output_type": "stream",
     "text": [
      "Probabilidad de sacar 5 manzanas en primer lugar: 0.078\n",
      "Probabilidad de sacar 15 naranjas consecutivas: 1.07e-06\n"
     ]
    }
   ],
   "source": [
    "# your code here\n",
    "import math\n",
    "from scipy import stats\n",
    "p # Probabilidad de manzanas\n",
    "q # Probabilidad de naranjas\n",
    "\n",
    "# porbabilidd de tomar 5 manzanas\n",
    "n = 5 # eventos\n",
    "k = 5 # exitos esperados\n",
    "\n",
    "probApple = round(stats.binom.pmf(k, n, p),3)\n",
    "print(f'Probabilidad de sacar 5 manzanas en primer lugar: {probApple}')\n",
    "\n",
    "n = 15\n",
    "k = 15\n",
    "probOrange = round(stats.binom.pmf(k, n, q),8)\n",
    "print(f'Probabilidad de sacar 15 naranjas consecutivas: {probOrange}')"
   ]
  },
  {
   "cell_type": "markdown",
   "metadata": {},
   "source": [
    "## Binomial Distribution\n",
    "\n",
    "Similar to the above problem, this time again we randomly sample 20 fruits.\n",
    "\n",
    "**What is the probability that this time the sample contains 5 apples and 15 oranges?**\n",
    "\n",
    "Please note that this time the order of the fruits being picked does not matter."
   ]
  },
  {
   "cell_type": "code",
   "execution_count": 37,
   "metadata": {},
   "outputs": [
    {
     "name": "stdout",
     "output_type": "stream",
     "text": [
      "Probabilidad de sacar 5 manzanasr: 0.001\n",
      "Probabilidad de sacar 15 naranjas: 0.00129449\n"
     ]
    }
   ],
   "source": [
    "# your code here\n",
    "# porbabilidd de tomar 5 manzanas\n",
    "n = 20 # eventos\n",
    "k = 5 # exitos esperados\n",
    "\n",
    "probApple = round(stats.binom.pmf(k, n, p),3)\n",
    "print(f'Probabilidad de sacar 5 manzanasr: {probApple}')\n",
    "\n",
    "n = 20\n",
    "k = 15\n",
    "probOrange = round(stats.binom.pmf(k, n, q),8)\n",
    "print(f'Probabilidad de sacar 15 naranjas: {probOrange}')"
   ]
  },
  {
   "cell_type": "markdown",
   "metadata": {},
   "source": [
    "In the lesson we also discussed CDF (cumulative distribution function). In the context of the above problem, **what is the probability that less than 5 fruits picked are apples?**\n",
    "\n",
    "Write the formula and calculate the probability below."
   ]
  },
  {
   "cell_type": "code",
   "execution_count": 39,
   "metadata": {},
   "outputs": [
    {
     "data": {
      "text/plain": [
       "0.001611524643456288"
      ]
     },
     "execution_count": 39,
     "metadata": {},
     "output_type": "execute_result"
    }
   ],
   "source": [
    "# your code here\n",
    "x = 5\n",
    "n = 20\n",
    "p = 0.6\n",
    "probApples = stats.binom.cdf(x, n, p)\n",
    "probApples"
   ]
  },
  {
   "cell_type": "markdown",
   "metadata": {},
   "source": [
    "**Plot the PDF (probability distributiom function) for the above binomial distribution.**\n",
    "\n",
    "*Hint: The range of x in a binomial distribution is from `0` to `n`.*"
   ]
  },
  {
   "cell_type": "code",
   "execution_count": 45,
   "metadata": {},
   "outputs": [
    {
     "data": {
      "image/png": "[encoded data removed]",
      "text/plain": [
       "<Figure size 432x288 with 1 Axes>"
      ]
     },
     "metadata": {
      "needs_background": "light"
     },
     "output_type": "display_data"
    }
   ],
   "source": [
    "# your code here\n",
    "# Please label the axes and give a title to the plot \n",
    "import matplotlib.pyplot as plt\n",
    "p = 0.6\n",
    "n = 20\n",
    "x = 0\n",
    "\n",
    "def binomcdf():\n",
    "    result = []\n",
    "    for x in range(n):\n",
    "        result.append(stats.binom.cdf(x, n, p))\n",
    "    return result\n",
    "\n",
    "plt.plot(binomcdf())\n",
    "plt.show()"
   ]
  },
  {
   "cell_type": "markdown",
   "metadata": {},
   "source": [
    "## Poisson Distribution\n",
    "\n",
    "In this challenge you are required to use the Math library in python to solve the problems.\n",
    "\n",
    "In the UEFA champions league tournament, the average number of goals scored in a match is 2.3. \n",
    "\n",
    "**What is the probability that the number of goals scored in a match is 5?**\n",
    "\n",
    "*Hint: Use the exp() in the math library*\n",
    "\n",
    "And to calculate the factorial, you can use the following code:\n",
    "\n",
    "```python\n",
    "import math\n",
    "math.factorial(n) # n is the number you want to find the factorial of\n",
    "```"
   ]
  },
  {
   "cell_type": "code",
   "execution_count": 51,
   "metadata": {},
   "outputs": [
    {
     "name": "stdout",
     "output_type": "stream",
     "text": [
      "5.378\n"
     ]
    }
   ],
   "source": [
    "# your code here \n",
    "'''\n",
    "mu = 2.3\n",
    "p(X = 5)\n",
    "Formula \n",
    "P(X = x) = (2.7878 -mu * mu x) / x!\n",
    "'''\n",
    "mu = 2.3\n",
    "x = 5\n",
    "prob = round(((math.exp(mu*-1) * math.pow(mu, x)) / math.factorial(x)) *100,3)\n",
    "print(prob)"
   ]
  },
  {
   "cell_type": "markdown",
   "metadata": {},
   "source": [
    "**Draw a poisson probability distribution plot for the number of goals to be between 0 to 10.**"
   ]
  },
  {
   "cell_type": "code",
   "execution_count": 52,
   "metadata": {},
   "outputs": [
    {
     "data": {
      "image/png": "[encoded data removed]",
      "text/plain": [
       "<Figure size 432x288 with 1 Axes>"
      ]
     },
     "metadata": {
      "needs_background": "light"
     },
     "output_type": "display_data"
    }
   ],
   "source": [
    "# your code here\n",
    "# Please label the axes and give a title to the plot \n",
    "mu = 2.3\n",
    "x = 0\n",
    "n = 10\n",
    "\n",
    "def poissoncdf():\n",
    "    result = []\n",
    "    for x in range(n):\n",
    "        result.append(round(((math.exp(mu*-1) * math.pow(mu, x)) / math.factorial(x)) *100,3))\n",
    "    return result\n",
    "\n",
    "plt.plot(poissoncdf())\n",
    "plt.show()"
   ]
  }
 ],
 "metadata": {
  "kernelspec": {
   "display_name": "Python 3",
   "language": "python",
   "name": "python3"
  },
  "language_info": {
   "codemirror_mode": {
    "name": "ipython",
    "version": 3
   },
   "file_extension": ".py",
   "mimetype": "text/x-python",
   "name": "python",
   "nbconvert_exporter": "python",
   "pygments_lexer": "ipython3",
   "version": "3.8.5"
  }
 },
 "nbformat": 4,
 "nbformat_minor": 2
}
